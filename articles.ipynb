{
 "cells": [
  {
   "cell_type": "code",
   "execution_count": 132,
   "metadata": {},
   "outputs": [],
   "source": [
    "import pandas as pd\n",
    "a1 = pd.read_csv('/home/cr625/a4/articles1.csv',index_col=0)\n",
    "a2 = pd.read_csv('/home/cr625/a4/articles2.csv',index_col=0)\n",
    "a3 = pd.read_csv('/home/cr625/a4/articles3.csv',index_col=0)\n",
    "\n",
    "df = pd.concat([a1,a2,a3])\n",
    "\n",
    "del a1, a2, a3\n"
   ]
  },
  {
   "cell_type": "code",
   "execution_count": 133,
   "metadata": {},
   "outputs": [],
   "source": [
    "import spacy\n",
    "nlp = spacy.load('en_core_web_sm')"
   ]
  },
  {
   "cell_type": "code",
   "execution_count": 171,
   "metadata": {},
   "outputs": [
    {
     "name": "stderr",
     "output_type": "stream",
     "text": [
      "100%|██████████| 1000/1000 [01:46<00:00,  9.39it/s]\n"
     ]
    }
   ],
   "source": [
    "from tqdm import tqdm\n",
    "\n",
    "frames = []\n",
    "for i in tqdm(range(1000)):\n",
    "    doc = df.loc[i,'content']\n",
    "    text_id = df.loc[i,'id']\n",
    "    doc = nlp(doc)\n",
    "    ents = [(e.text, e.start_char, e.end_char, e.label_)\n",
    "            for e in doc.ents\n",
    "            if len(e.text.strip(' -—')) > 0]\n",
    "    frame = pd.DataFrame(ents)\n",
    "    frame['id'] = text_id\n",
    "    frames.append(frame)\n",
    "\n",
    "npf = pd.concat(frames)\n",
    "\n",
    "npf.columns = ['Text','Start','Stop','Type','Id']\n",
    "\n",
    "# collect occurrences law entities\n",
    "law_related = npf[npf['Type'] == 'LAW']\n"
   ]
  },
  {
   "cell_type": "code",
   "execution_count": 173,
   "metadata": {},
   "outputs": [
    {
     "ename": "ValueError",
     "evalue": "[E096] Invalid object passed to displaCy: Can only visualize `Doc` or Span objects, or dicts if set to `manual=True`.",
     "output_type": "error",
     "traceback": [
      "\u001b[0;31m---------------------------------------------------------------------------\u001b[0m",
      "\u001b[0;31mValueError\u001b[0m                                Traceback (most recent call last)",
      "\u001b[1;32m/home/cr625/a4/articles.ipynb Cell 4'\u001b[0m in \u001b[0;36m<cell line: 4>\u001b[0;34m()\u001b[0m\n\u001b[1;32m      <a href='vscode-notebook-cell://wsl%2Bubuntu/home/cr625/a4/articles.ipynb#ch0000024vscode-remote?line=0'>1</a>\u001b[0m \u001b[39mfrom\u001b[39;00m \u001b[39mspacy\u001b[39;00m\u001b[39m.\u001b[39;00m\u001b[39mmatcher\u001b[39;00m \u001b[39mimport\u001b[39;00m Matcher\n\u001b[1;32m      <a href='vscode-notebook-cell://wsl%2Bubuntu/home/cr625/a4/articles.ipynb#ch0000024vscode-remote?line=1'>2</a>\u001b[0m \u001b[39mfrom\u001b[39;00m \u001b[39mspacy\u001b[39;00m \u001b[39mimport\u001b[39;00m displacy\n\u001b[0;32m----> <a href='vscode-notebook-cell://wsl%2Bubuntu/home/cr625/a4/articles.ipynb#ch0000024vscode-remote?line=3'>4</a>\u001b[0m displacy\u001b[39m.\u001b[39;49mrender(law_related, style\u001b[39m=\u001b[39;49m\u001b[39m'\u001b[39;49m\u001b[39ment\u001b[39;49m\u001b[39m'\u001b[39;49m, jupyter\u001b[39m=\u001b[39;49m\u001b[39mTrue\u001b[39;49;00m)\n\u001b[1;32m      <a href='vscode-notebook-cell://wsl%2Bubuntu/home/cr625/a4/articles.ipynb#ch0000024vscode-remote?line=5'>6</a>\u001b[0m \u001b[39m# only need one reference for each article\u001b[39;00m\n\u001b[1;32m      <a href='vscode-notebook-cell://wsl%2Bubuntu/home/cr625/a4/articles.ipynb#ch0000024vscode-remote?line=6'>7</a>\u001b[0m law_related_articles \u001b[39m=\u001b[39m law_related\u001b[39m.\u001b[39mgroupby([\u001b[39m'\u001b[39m\u001b[39mId\u001b[39m\u001b[39m'\u001b[39m])\u001b[39m.\u001b[39msize()\n",
      "File \u001b[0;32m~/a4/env/lib/python3.8/site-packages/spacy/displacy/__init__.py:55\u001b[0m, in \u001b[0;36mrender\u001b[0;34m(docs, style, page, minify, jupyter, options, manual)\u001b[0m\n\u001b[1;32m     <a href='file:///home/cr625/a4/env/lib/python3.8/site-packages/spacy/displacy/__init__.py?line=52'>53</a>\u001b[0m docs \u001b[39m=\u001b[39m [obj \u001b[39mif\u001b[39;00m \u001b[39mnot\u001b[39;00m \u001b[39misinstance\u001b[39m(obj, Span) \u001b[39melse\u001b[39;00m obj\u001b[39m.\u001b[39mas_doc() \u001b[39mfor\u001b[39;00m obj \u001b[39min\u001b[39;00m docs]\n\u001b[1;32m     <a href='file:///home/cr625/a4/env/lib/python3.8/site-packages/spacy/displacy/__init__.py?line=53'>54</a>\u001b[0m \u001b[39mif\u001b[39;00m \u001b[39mnot\u001b[39;00m \u001b[39mall\u001b[39m(\u001b[39misinstance\u001b[39m(obj, (Doc, Span, \u001b[39mdict\u001b[39m)) \u001b[39mfor\u001b[39;00m obj \u001b[39min\u001b[39;00m docs):\n\u001b[0;32m---> <a href='file:///home/cr625/a4/env/lib/python3.8/site-packages/spacy/displacy/__init__.py?line=54'>55</a>\u001b[0m     \u001b[39mraise\u001b[39;00m \u001b[39mValueError\u001b[39;00m(Errors\u001b[39m.\u001b[39mE096)\n\u001b[1;32m     <a href='file:///home/cr625/a4/env/lib/python3.8/site-packages/spacy/displacy/__init__.py?line=55'>56</a>\u001b[0m renderer_func, converter \u001b[39m=\u001b[39m factories[style]\n\u001b[1;32m     <a href='file:///home/cr625/a4/env/lib/python3.8/site-packages/spacy/displacy/__init__.py?line=56'>57</a>\u001b[0m renderer \u001b[39m=\u001b[39m renderer_func(options\u001b[39m=\u001b[39moptions)\n",
      "\u001b[0;31mValueError\u001b[0m: [E096] Invalid object passed to displaCy: Can only visualize `Doc` or Span objects, or dicts if set to `manual=True`."
     ]
    }
   ],
   "source": [
    "from spacy.matcher import Matcher\n",
    "from spacy import displacy\n",
    "\n",
    "# only need one reference for each article\n",
    "law_related_articles = law_related.groupby(['Id']).size()\n",
    "\n",
    "\n",
    "patterns = [[{\"LOWER\":\"facebook\"}],[{\"LOWER\":\"meta\"}],[{\"LOWER\":\"apple\"}],[{\"LOWER\":\"amazon\"}],[{\"LOWER\":\"netflix\"}],[{\"LOWER\":\"google\"}]]\n",
    "matcher = Matcher(nlp.vocab)\n",
    "matcher.add(\"FAANG\", patterns)\n",
    "\n",
    "# collect all the articles that contain mentions of the FAANG entities\n",
    "faang_related = []\n",
    "for article in law_related_articles.index:\n",
    "    doc = df.loc[article, 'content']\n",
    "    matches = matcher(nlp(doc))\n",
    "    if len(matches) > 0:\n",
    "        faang_related.append(article)\n",
    "        \n",
    "# only need one copy of the article if the article has multiple mentions of the FAANG entities\n",
    "article_list = pd.unique(faang_related)\n",
    "\n",
    "for i in tqdm(range(len(article_list))):\n",
    "    print(df.loc[article_list[i], 'title'])"
   ]
  }
 ],
 "metadata": {
  "interpreter": {
   "hash": "d317d2645c4754d75ae8a92d4cd8c0a3b2004ecdceda4685286a54010d4ecaa5"
  },
  "kernelspec": {
   "display_name": "Python 3.8.10 ('env': venv)",
   "language": "python",
   "name": "python3"
  },
  "language_info": {
   "codemirror_mode": {
    "name": "ipython",
    "version": 3
   },
   "file_extension": ".py",
   "mimetype": "text/x-python",
   "name": "python",
   "nbconvert_exporter": "python",
   "pygments_lexer": "ipython3",
   "version": "3.8.10"
  },
  "orig_nbformat": 4
 },
 "nbformat": 4,
 "nbformat_minor": 2
}
