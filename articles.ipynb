{
 "cells": [
  {
   "cell_type": "code",
   "execution_count": 132,
   "metadata": {},
   "outputs": [],
   "source": [
    "import pandas as pd\n",
    "a1 = pd.read_csv('/home/cr625/a4/articles1.csv',index_col=0)\n",
    "a2 = pd.read_csv('/home/cr625/a4/articles2.csv',index_col=0)\n",
    "a3 = pd.read_csv('/home/cr625/a4/articles3.csv',index_col=0)\n",
    "\n",
    "df = pd.concat([a1,a2,a3])\n",
    "\n",
    "del a1, a2, a3\n"
   ]
  },
  {
   "cell_type": "code",
   "execution_count": 133,
   "metadata": {},
   "outputs": [],
   "source": [
    "import spacy\n",
    "nlp = spacy.load('en_core_web_sm')"
   ]
  },
  {
   "cell_type": "code",
   "execution_count": 171,
   "metadata": {},
   "outputs": [
    {
     "name": "stderr",
     "output_type": "stream",
     "text": [
      "100%|██████████| 1000/1000 [01:46<00:00,  9.39it/s]\n"
     ]
    }
   ],
   "source": [
    "from tqdm import tqdm\n",
    "\n",
    "frames = []\n",
    "for i in tqdm(range(1000)):\n",
    "    doc = df.loc[i,'content']\n",
    "    text_id = df.loc[i,'id']\n",
    "    doc = nlp(doc)\n",
    "    ents = [(e.text, e.start_char, e.end_char, e.label_)\n",
    "            for e in doc.ents\n",
    "            if len(e.text.strip(' -—')) > 0]\n",
    "    frame = pd.DataFrame(ents)\n",
    "    frame['id'] = text_id\n",
    "    frames.append(frame)\n",
    "\n",
    "npf = pd.concat(frames)\n",
    "\n",
    "npf.columns = ['Text','Start','Stop','Type','Id']\n",
    "\n",
    "# collect occurrences law entities\n",
    "law_related = npf[npf['Type'] == 'LAW']\n"
   ]
  },
  {
   "cell_type": "code",
   "execution_count": 174,
   "metadata": {},
   "outputs": [
    {
     "name": "stderr",
     "output_type": "stream",
     "text": [
      "100%|██████████| 29/29 [00:00<00:00, 23991.09it/s]"
     ]
    },
    {
     "name": "stdout",
     "output_type": "stream",
     "text": [
      "U.S.-Backed ‘Moderate’ Syrian Rebels: Beheading Boy Was a ’Mistake’\n",
      "‘Orange is the New Black’ Star Sues NYPD for $10M After Arrest\n",
      "Donald Trump Tombstone Appears in Central Park as Online Threats Continue - Breitbart\n",
      "New York’s Left Protests the Peaceful Transfer of Power to Donald Trump - Breitbart\n",
      "Gamescom Bans Cosplay Weapons in Response to Recent Terrorist Attacks - Breitbart\n",
      "Gawker Ceases Operations, Posts Goodbyes - Breitbart\n",
      "#ImWithAmber: Fans Call for Boycott of Johnny Depp’s Sweden Rock Concert over Abuse Allegations - Breitbart\n",
      "Texas Veterinarian Loses License for Killing Cat with Bow\n",
      "Microsoft Sued for $10,000 After Windows 10 Auto Update Renders Woman’s PC Unusable - Breitbart\n",
      "Watch: SNL Portrays Smug Dems Election Night - Then Let Down After Trump Wins - Breitbart\n",
      "Rand Paul Supports Trump as Nominee: ‘I Stand by That Pledge’\n",
      "Wikileaks: Clinton Donors Say America ’Obviously Not a Democracy’ - Breitbart\n",
      "Hillary Appointed Clinton Foundation Donor, Financial Bundler to Sensitive Intel Post - Breitbart\n",
      "Mick Jagger Hints at Playing Donald Trump Inauguration - Breitbart\n",
      "Obama Announces Google Broadband in Cuba - Breitbart\n",
      "The Pros and Cons of Nikki Haley as UN Ambassador - Breitbart\n",
      "Report: Facebook Planning to Promote News from ’Favored’ Media Partners - Breitbart\n",
      "’Crooked Hillary Would be a F*cking Disaster’ Sign Stirs Up Small Texas Town\n",
      "These People Don’t Like the ’Tubman Twenty’ - Breitbart\n",
      "CEO Who Threatened to Kill Trump Now Blames Drunkenness\n",
      "Brazilian Man Arrested After Attempting to Extinguish Olympic Flame - Breitbart\n",
      "Michael Savage: Facebook, Google Are ‘Mini-Fascist States That Crush Opposition Viewpoints’ - ‘Should Be Taken Down Under Anti-Trust Legislation’ - Breitbart\n",
      "Atheist Lawsuit Forces West Texas Sheriff to Remove Crosses from Patrol Cars\n",
      "EXCLUSIVE - Jackie Mason: Media Looking for ‘Fraudulent Excuse’ to Smear Steve Bannon - Breitbart\n",
      "I’m a ’Globalist’ and I Support Donald Trump - Breitbart\n",
      "Mark Levin: Friendly Advice for Trump - ’Cut the Crap’, ’Liberal New York City Bully Tactics’ - Breitbart\n",
      "Rich Lowry: ’Zero Chance’ #NeverTrump Ever Happens\n",
      "Intel to Lay Off 12,000 Workers Globally - Breitbart\n",
      "Twitter Suspended An Autistic Man Who Tweets Otter Pictures After Spurious Copyright Complaints - Breitbart\n"
     ]
    },
    {
     "name": "stderr",
     "output_type": "stream",
     "text": [
      "\n"
     ]
    }
   ],
   "source": [
    "from spacy.matcher import Matcher\n",
    "from spacy import displacy\n",
    "\n",
    "# only need one reference for each article\n",
    "law_related_articles = law_related.groupby(['Id']).size()\n",
    "\n",
    "\n",
    "patterns = [[{\"LOWER\":\"facebook\"}],[{\"LOWER\":\"meta\"}],[{\"LOWER\":\"apple\"}],[{\"LOWER\":\"amazon\"}],[{\"LOWER\":\"netflix\"}],[{\"LOWER\":\"google\"}]]\n",
    "matcher = Matcher(nlp.vocab)\n",
    "matcher.add(\"FAANG\", patterns)\n",
    "\n",
    "# collect all the articles that contain mentions of the FAANG entities\n",
    "faang_related = []\n",
    "for article in law_related_articles.index:\n",
    "    doc = df.loc[article, 'content']\n",
    "    matches = matcher(nlp(doc))\n",
    "    if len(matches) > 0:\n",
    "        faang_related.append(article)\n",
    "        \n",
    "# only need one copy of the article if the article has multiple mentions of the FAANG entities\n",
    "article_list = pd.unique(faang_related)\n",
    "\n",
    "for i in tqdm(range(len(article_list))):\n",
    "    print(df.loc[article_list[i], 'title'])"
   ]
  }
 ],
 "metadata": {
  "interpreter": {
   "hash": "d317d2645c4754d75ae8a92d4cd8c0a3b2004ecdceda4685286a54010d4ecaa5"
  },
  "kernelspec": {
   "display_name": "Python 3.8.10 ('env': venv)",
   "language": "python",
   "name": "python3"
  },
  "language_info": {
   "codemirror_mode": {
    "name": "ipython",
    "version": 3
   },
   "file_extension": ".py",
   "mimetype": "text/x-python",
   "name": "python",
   "nbconvert_exporter": "python",
   "pygments_lexer": "ipython3",
   "version": "3.8.10"
  },
  "orig_nbformat": 4
 },
 "nbformat": 4,
 "nbformat_minor": 2
}
